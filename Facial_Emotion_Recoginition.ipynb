{
 "cells": [
  {
   "cell_type": "code",
   "execution_count": 1,
   "id": "45b2fb38-8934-4daf-a5d6-457bd03cf851",
   "metadata": {},
   "outputs": [],
   "source": [
    "import pandas as pd\n",
    "import numpy as np\n",
    "import matplotlib.pyplot as plt\n"
   ]
  },
  {
   "cell_type": "code",
   "execution_count": 2,
   "id": "d077a5e9-2f59-4d3e-9543-696cb4e45e59",
   "metadata": {},
   "outputs": [
    {
     "name": "stderr",
     "output_type": "stream",
     "text": [
      "2023-10-24 16:31:42.466675: I tensorflow/core/platform/cpu_feature_guard.cc:182] This TensorFlow binary is optimized to use available CPU instructions in performance-critical operations.\n",
      "To enable the following instructions: AVX2 FMA, in other operations, rebuild TensorFlow with the appropriate compiler flags.\n"
     ]
    }
   ],
   "source": [
    "import cv2\n",
    "from keras.models import Sequential\n",
    "from keras.layers import Dense, Conv2D,MaxPooling2D, Dropout, Flatten\n",
    "from keras.optimizers import Adam\n",
    "from keras.preprocessing.image import ImageDataGenerator\n"
   ]
  },
  {
   "cell_type": "code",
   "execution_count": 3,
   "id": "c436c631-e1d4-4ba9-937a-879f5cc78858",
   "metadata": {
    "tags": []
   },
   "outputs": [],
   "source": [
    "#Image data generator \n",
    "\n",
    "training_datagen= ImageDataGenerator(rescale=1.0/255)\n",
    "validation_datagen=ImageDataGenerator(rescale=1.0/255)"
   ]
  },
  {
   "cell_type": "code",
   "execution_count": 4,
   "id": "61e0d36b-4fa7-47d0-bceb-e0810864f34e",
   "metadata": {
    "tags": []
   },
   "outputs": [
    {
     "name": "stdout",
     "output_type": "stream",
     "text": [
      "Found 28709 images belonging to 7 classes.\n"
     ]
    }
   ],
   "source": [
    "#Fetch and preprocess all the training images\n",
    "\n",
    "training_data = training_datagen.flow_from_directory(\n",
    "    directory='Dataset/train',\n",
    "    target_size=(48, 48),\n",
    "    batch_size=64,\n",
    "    color_mode=\"grayscale\",  \n",
    "    class_mode=\"categorical\"\n",
    ")"
   ]
  },
  {
   "cell_type": "code",
   "execution_count": 5,
   "id": "0c1a0c4f-5e1f-4a19-91f0-5e19dc929240",
   "metadata": {
    "tags": []
   },
   "outputs": [
    {
     "name": "stdout",
     "output_type": "stream",
     "text": [
      "Found 7178 images belonging to 7 classes.\n"
     ]
    }
   ],
   "source": [
    "# Fetch and preprocess all the validation Images\n",
    "\n",
    "testing_data=validation_datagen.flow_from_directory(\n",
    "    directory='Dataset/test',\n",
    "    target_size=(48,48),\n",
    "    batch_size=64,\n",
    "    color_mode=\"grayscale\",\n",
    "    class_mode=\"categorical\"\n",
    ")"
   ]
  },
  {
   "cell_type": "markdown",
   "id": "0bc31cb3-d41b-4ace-ac6d-998282755395",
   "metadata": {},
   "source": [
    "#Creating the Model\n"
   ]
  },
  {
   "cell_type": "code",
   "execution_count": 6,
   "id": "d6ddde7d-4927-4c0f-bb5a-b00a1ef89d02",
   "metadata": {
    "tags": []
   },
   "outputs": [],
   "source": [
    "\n",
    "model=Sequential() \n",
    "  \n",
    "model.add(Conv2D(32,kernel_size=(3,3),activation='relu',input_shape=(48,48,1)) )\n",
    "model.add(Conv2D(64,kernel_size=(3,3),activation='relu'))\n",
    "model.add(MaxPooling2D(pool_size=(2,2)))\n",
    "\n",
    "model.add(Dropout(0.25))\n",
    "    \n",
    "model.add(Conv2D(128,kernel_size=(3,3),activation='relu'))\n",
    "model.add(MaxPooling2D(pool_size=(2,2)))\n",
    "model.add(Conv2D(128,kernel_size=(3,3),activation='relu'))\n",
    "model.add(MaxPooling2D(pool_size=(2,2)))\n",
    "model.add(Dropout(0.25))\n",
    "    \n",
    "model.add(Flatten())\n",
    "model.add(Dense(1024,activation='relu'))\n",
    "model.add(Dropout(0.25))\n",
    "model.add(Dense(7,activation='softmax'))\n",
    "\n"
   ]
  },
  {
   "cell_type": "code",
   "execution_count": 7,
   "id": "72363c9f-e3ae-4e6d-9406-fedb3395ba30",
   "metadata": {
    "tags": []
   },
   "outputs": [],
   "source": [
    "cv2.ocl.setUseOpenCL(False)"
   ]
  },
  {
   "cell_type": "code",
   "execution_count": 8,
   "id": "e6b86db9-9bd0-4c49-a86d-3debdccf972e",
   "metadata": {
    "tags": []
   },
   "outputs": [],
   "source": [
    "model.compile(loss='categorical_crossentropy', optimizer='adam', metrics=['accuracy'])"
   ]
  },
  {
   "cell_type": "code",
   "execution_count": 9,
   "id": "b4b67253-ee40-4e5b-8208-d998bd97d382",
   "metadata": {
    "tags": []
   },
   "outputs": [
    {
     "name": "stdout",
     "output_type": "stream",
     "text": [
      "Model: \"sequential\"\n",
      "_________________________________________________________________\n",
      " Layer (type)                Output Shape              Param #   \n",
      "=================================================================\n",
      " conv2d (Conv2D)             (None, 46, 46, 32)        320       \n",
      "                                                                 \n",
      " conv2d_1 (Conv2D)           (None, 44, 44, 64)        18496     \n",
      "                                                                 \n",
      " max_pooling2d (MaxPooling2  (None, 22, 22, 64)        0         \n",
      " D)                                                              \n",
      "                                                                 \n",
      " dropout (Dropout)           (None, 22, 22, 64)        0         \n",
      "                                                                 \n",
      " conv2d_2 (Conv2D)           (None, 20, 20, 128)       73856     \n",
      "                                                                 \n",
      " max_pooling2d_1 (MaxPoolin  (None, 10, 10, 128)       0         \n",
      " g2D)                                                            \n",
      "                                                                 \n",
      " conv2d_3 (Conv2D)           (None, 8, 8, 128)         147584    \n",
      "                                                                 \n",
      " max_pooling2d_2 (MaxPoolin  (None, 4, 4, 128)         0         \n",
      " g2D)                                                            \n",
      "                                                                 \n",
      " dropout_1 (Dropout)         (None, 4, 4, 128)         0         \n",
      "                                                                 \n",
      " flatten (Flatten)           (None, 2048)              0         \n",
      "                                                                 \n",
      " dense (Dense)               (None, 1024)              2098176   \n",
      "                                                                 \n",
      " dropout_2 (Dropout)         (None, 1024)              0         \n",
      "                                                                 \n",
      " dense_1 (Dense)             (None, 7)                 7175      \n",
      "                                                                 \n",
      "=================================================================\n",
      "Total params: 2345607 (8.95 MB)\n",
      "Trainable params: 2345607 (8.95 MB)\n",
      "Non-trainable params: 0 (0.00 Byte)\n",
      "_________________________________________________________________\n"
     ]
    }
   ],
   "source": [
    "model.summary()"
   ]
  },
  {
   "cell_type": "code",
   "execution_count": 15,
   "id": "d44f3eae-d182-4e9d-96c4-299140568606",
   "metadata": {},
   "outputs": [
    {
     "name": "stdout",
     "output_type": "stream",
     "text": [
      "Epoch 1/50\n"
     ]
    },
    {
     "name": "stderr",
     "output_type": "stream",
     "text": [
      "/var/folders/y5/0pk6n8ss36qc7jpnwlwc_cd40000gp/T/ipykernel_663/427085033.py:1: UserWarning: `Model.fit_generator` is deprecated and will be removed in a future version. Please use `Model.fit`, which supports generators.\n",
      "  model.fit_generator(\n"
     ]
    },
    {
     "name": "stdout",
     "output_type": "stream",
     "text": [
      "448/448 [==============================] - 125s 276ms/step - loss: 1.7080 - accuracy: 0.3137 - val_loss: 1.5254 - val_accuracy: 0.4206\n",
      "Epoch 2/50\n",
      "448/448 [==============================] - 121s 269ms/step - loss: 1.4360 - accuracy: 0.4454 - val_loss: 1.3022 - val_accuracy: 0.4940\n",
      "Epoch 3/50\n",
      "448/448 [==============================] - 119s 266ms/step - loss: 1.2812 - accuracy: 0.5088 - val_loss: 1.2193 - val_accuracy: 0.5324\n",
      "Epoch 4/50\n",
      "448/448 [==============================] - 118s 263ms/step - loss: 1.1982 - accuracy: 0.5449 - val_loss: 1.1891 - val_accuracy: 0.5428\n",
      "Epoch 5/50\n",
      "448/448 [==============================] - 119s 265ms/step - loss: 1.1384 - accuracy: 0.5655 - val_loss: 1.1437 - val_accuracy: 0.5640\n",
      "Epoch 6/50\n",
      "448/448 [==============================] - 126s 280ms/step - loss: 1.0827 - accuracy: 0.5915 - val_loss: 1.1117 - val_accuracy: 0.5727\n",
      "Epoch 7/50\n",
      "448/448 [==============================] - 130s 290ms/step - loss: 1.0293 - accuracy: 0.6108 - val_loss: 1.0891 - val_accuracy: 0.5928\n",
      "Epoch 8/50\n",
      "448/448 [==============================] - 124s 277ms/step - loss: 0.9833 - accuracy: 0.6301 - val_loss: 1.1055 - val_accuracy: 0.5808\n",
      "Epoch 9/50\n",
      "448/448 [==============================] - 118s 264ms/step - loss: 0.9317 - accuracy: 0.6510 - val_loss: 1.0846 - val_accuracy: 0.5944\n",
      "Epoch 10/50\n",
      "448/448 [==============================] - 118s 264ms/step - loss: 0.8863 - accuracy: 0.6690 - val_loss: 1.0720 - val_accuracy: 0.5997\n",
      "Epoch 11/50\n",
      "448/448 [==============================] - 118s 263ms/step - loss: 0.8338 - accuracy: 0.6906 - val_loss: 1.0817 - val_accuracy: 0.6052\n",
      "Epoch 12/50\n",
      "448/448 [==============================] - 119s 267ms/step - loss: 0.7894 - accuracy: 0.7044 - val_loss: 1.0873 - val_accuracy: 0.6030\n",
      "Epoch 13/50\n",
      "448/448 [==============================] - 122s 273ms/step - loss: 0.7522 - accuracy: 0.7213 - val_loss: 1.1138 - val_accuracy: 0.6016\n",
      "Epoch 14/50\n",
      "448/448 [==============================] - 129s 289ms/step - loss: 0.7051 - accuracy: 0.7388 - val_loss: 1.1250 - val_accuracy: 0.6055\n",
      "Epoch 15/50\n",
      "448/448 [==============================] - 129s 287ms/step - loss: 0.6654 - accuracy: 0.7546 - val_loss: 1.1226 - val_accuracy: 0.6085\n",
      "Epoch 16/50\n",
      "448/448 [==============================] - 122s 273ms/step - loss: 0.6363 - accuracy: 0.7636 - val_loss: 1.0962 - val_accuracy: 0.6159\n",
      "Epoch 17/50\n",
      "448/448 [==============================] - 123s 275ms/step - loss: 0.6016 - accuracy: 0.7772 - val_loss: 1.1314 - val_accuracy: 0.6143\n",
      "Epoch 18/50\n",
      "448/448 [==============================] - 138s 309ms/step - loss: 0.5726 - accuracy: 0.7890 - val_loss: 1.1534 - val_accuracy: 0.6113\n",
      "Epoch 19/50\n",
      "448/448 [==============================] - 128s 286ms/step - loss: 0.5456 - accuracy: 0.8010 - val_loss: 1.1976 - val_accuracy: 0.6127\n",
      "Epoch 20/50\n",
      "448/448 [==============================] - 132s 294ms/step - loss: 0.5319 - accuracy: 0.8072 - val_loss: 1.2054 - val_accuracy: 0.6237\n",
      "Epoch 21/50\n",
      "448/448 [==============================] - 120s 269ms/step - loss: 0.5071 - accuracy: 0.8153 - val_loss: 1.2016 - val_accuracy: 0.6210\n",
      "Epoch 22/50\n",
      "448/448 [==============================] - 121s 270ms/step - loss: 0.4893 - accuracy: 0.8210 - val_loss: 1.2310 - val_accuracy: 0.6138\n",
      "Epoch 23/50\n",
      "448/448 [==============================] - 121s 271ms/step - loss: 0.4708 - accuracy: 0.8310 - val_loss: 1.2255 - val_accuracy: 0.6197\n",
      "Epoch 24/50\n",
      "448/448 [==============================] - 1082s 2s/step - loss: 0.4563 - accuracy: 0.8359 - val_loss: 1.2289 - val_accuracy: 0.6162\n",
      "Epoch 25/50\n",
      "448/448 [==============================] - 120s 267ms/step - loss: 0.4368 - accuracy: 0.8416 - val_loss: 1.2741 - val_accuracy: 0.6148\n",
      "Epoch 26/50\n",
      "448/448 [==============================] - 119s 266ms/step - loss: 0.4349 - accuracy: 0.8422 - val_loss: 1.2604 - val_accuracy: 0.6177\n",
      "Epoch 27/50\n",
      "448/448 [==============================] - 118s 264ms/step - loss: 0.4139 - accuracy: 0.8516 - val_loss: 1.2950 - val_accuracy: 0.6085\n",
      "Epoch 28/50\n",
      "448/448 [==============================] - 119s 266ms/step - loss: 0.4063 - accuracy: 0.8550 - val_loss: 1.2477 - val_accuracy: 0.6130\n",
      "Epoch 29/50\n",
      "448/448 [==============================] - 119s 266ms/step - loss: 0.3915 - accuracy: 0.8581 - val_loss: 1.2779 - val_accuracy: 0.6113\n",
      "Epoch 30/50\n",
      "448/448 [==============================] - 153s 341ms/step - loss: 0.3912 - accuracy: 0.8578 - val_loss: 1.2502 - val_accuracy: 0.6147\n",
      "Epoch 31/50\n",
      "448/448 [==============================] - 120s 269ms/step - loss: 0.3674 - accuracy: 0.8680 - val_loss: 1.3230 - val_accuracy: 0.6109\n",
      "Epoch 32/50\n",
      "448/448 [==============================] - 121s 269ms/step - loss: 0.3673 - accuracy: 0.8675 - val_loss: 1.3562 - val_accuracy: 0.6115\n",
      "Epoch 33/50\n",
      "448/448 [==============================] - 121s 270ms/step - loss: 0.3561 - accuracy: 0.8715 - val_loss: 1.3009 - val_accuracy: 0.6113\n",
      "Epoch 34/50\n",
      "448/448 [==============================] - 121s 269ms/step - loss: 0.3481 - accuracy: 0.8762 - val_loss: 1.3468 - val_accuracy: 0.6122\n",
      "Epoch 35/50\n",
      "448/448 [==============================] - 120s 267ms/step - loss: 0.3488 - accuracy: 0.8785 - val_loss: 1.3262 - val_accuracy: 0.6143\n",
      "Epoch 36/50\n",
      "448/448 [==============================] - 5818s 13s/step - loss: 0.3376 - accuracy: 0.8797 - val_loss: 1.3931 - val_accuracy: 0.6143\n",
      "Epoch 37/50\n",
      "448/448 [==============================] - 114s 254ms/step - loss: 0.3293 - accuracy: 0.8817 - val_loss: 1.3873 - val_accuracy: 0.6152\n",
      "Epoch 38/50\n",
      "448/448 [==============================] - 115s 256ms/step - loss: 0.3278 - accuracy: 0.8848 - val_loss: 1.3892 - val_accuracy: 0.6173\n",
      "Epoch 39/50\n",
      "448/448 [==============================] - 116s 258ms/step - loss: 0.3224 - accuracy: 0.8858 - val_loss: 1.3743 - val_accuracy: 0.6129\n",
      "Epoch 40/50\n",
      "448/448 [==============================] - 116s 258ms/step - loss: 0.3138 - accuracy: 0.8877 - val_loss: 1.4121 - val_accuracy: 0.6122\n",
      "Epoch 41/50\n",
      "448/448 [==============================] - 117s 261ms/step - loss: 0.3082 - accuracy: 0.8923 - val_loss: 1.3662 - val_accuracy: 0.6175\n",
      "Epoch 42/50\n",
      "448/448 [==============================] - 117s 262ms/step - loss: 0.3033 - accuracy: 0.8947 - val_loss: 1.4506 - val_accuracy: 0.6101\n",
      "Epoch 43/50\n",
      "448/448 [==============================] - 118s 264ms/step - loss: 0.3042 - accuracy: 0.8939 - val_loss: 1.4176 - val_accuracy: 0.6117\n",
      "Epoch 44/50\n",
      "448/448 [==============================] - 119s 266ms/step - loss: 0.2878 - accuracy: 0.8997 - val_loss: 1.4562 - val_accuracy: 0.6147\n",
      "Epoch 45/50\n",
      "448/448 [==============================] - 122s 272ms/step - loss: 0.2925 - accuracy: 0.8966 - val_loss: 1.4357 - val_accuracy: 0.6130\n",
      "Epoch 46/50\n",
      "448/448 [==============================] - 119s 266ms/step - loss: 0.2865 - accuracy: 0.8997 - val_loss: 1.3949 - val_accuracy: 0.6122\n",
      "Epoch 47/50\n",
      "448/448 [==============================] - 584s 1s/step - loss: 0.2764 - accuracy: 0.9019 - val_loss: 1.4052 - val_accuracy: 0.6074\n",
      "Epoch 48/50\n",
      "448/448 [==============================] - 118s 263ms/step - loss: 0.2883 - accuracy: 0.8998 - val_loss: 1.4187 - val_accuracy: 0.6117\n",
      "Epoch 49/50\n",
      "448/448 [==============================] - 117s 262ms/step - loss: 0.2677 - accuracy: 0.9071 - val_loss: 1.4719 - val_accuracy: 0.6141\n",
      "Epoch 50/50\n",
      "448/448 [==============================] - 1368s 3s/step - loss: 0.2687 - accuracy: 0.9044 - val_loss: 1.4358 - val_accuracy: 0.6200\n"
     ]
    },
    {
     "data": {
      "text/plain": [
       "<keras.src.callbacks.History at 0x14e8c4c90>"
      ]
     },
     "execution_count": 15,
     "metadata": {},
     "output_type": "execute_result"
    }
   ],
   "source": [
    "model.fit_generator(\n",
    "    training_data,\n",
    "    epochs=50,\n",
    "    steps_per_epoch=28709//64,\n",
    "    validation_data=testing_data,\n",
    "    validation_steps=7178//64\n",
    ")\n",
    "\n",
    "    \n",
    "    "
   ]
  },
  {
   "cell_type": "code",
   "execution_count": 16,
   "id": "3feb8daa-b672-455c-8a82-cfb3ed234955",
   "metadata": {
    "tags": []
   },
   "outputs": [],
   "source": [
    "model_json = model.to_json()\n",
    "with open(\"model.json\", \"w\") as json_file:\n",
    "    json_file.write(model_json)"
   ]
  },
  {
   "cell_type": "code",
   "execution_count": 18,
   "id": "2b834d0f-955b-4f55-9b95-a4ae7e071fc7",
   "metadata": {},
   "outputs": [],
   "source": [
    "model.save_weights('model_weights.h5')"
   ]
  },
  {
   "cell_type": "code",
   "execution_count": 20,
   "id": "ae109e4e-25f8-4684-80db-61b384f3a327",
   "metadata": {
    "tags": []
   },
   "outputs": [],
   "source": [
    "model.save('model.keras')"
   ]
  },
  {
   "cell_type": "code",
   "execution_count": null,
   "id": "1fbcd3eb-5ef6-4daf-a36d-c8783a273df8",
   "metadata": {},
   "outputs": [],
   "source": []
  }
 ],
 "metadata": {
  "kernelspec": {
   "display_name": "Python 3 (ipykernel)",
   "language": "python",
   "name": "python3"
  },
  "language_info": {
   "codemirror_mode": {
    "name": "ipython",
    "version": 3
   },
   "file_extension": ".py",
   "mimetype": "text/x-python",
   "name": "python",
   "nbconvert_exporter": "python",
   "pygments_lexer": "ipython3",
   "version": "3.11.5"
  }
 },
 "nbformat": 4,
 "nbformat_minor": 5
}
